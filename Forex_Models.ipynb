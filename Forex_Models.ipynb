{
 "cells": [
  {
   "cell_type": "markdown",
   "metadata": {},
   "source": [
    "## Modelling"
   ]
  },
  {
   "cell_type": "code",
   "execution_count": 1,
   "metadata": {},
   "outputs": [],
   "source": [
    "import pandas as pd\n",
    "import numpy as np\n",
    "import matplotlib.pyplot as plt\n",
    "import random"
   ]
  },
  {
   "cell_type": "code",
   "execution_count": 2,
   "metadata": {},
   "outputs": [],
   "source": [
    "%matplotlib inline"
   ]
  },
  {
   "cell_type": "code",
   "execution_count": 3,
   "metadata": {},
   "outputs": [],
   "source": [
    "import warnings\n",
    "warnings.filterwarnings(\"ignore\")"
   ]
  },
  {
   "cell_type": "code",
   "execution_count": 111,
   "metadata": {},
   "outputs": [],
   "source": [
    "from sklearn.model_selection import train_test_split\n",
    "from sklearn.linear_model import LogisticRegression\n",
    "\n",
    "from sklearn.metrics import accuracy_score, roc_auc_score, confusion_matrix, classification_report\n",
    "from sklearn.metrics import roc_curve, auc\n",
    "from sklearn.multiclass import OneVsOneClassifier, OneVsRestClassifier\n",
    "from sklearn.preprocessing import LabelBinarizer\n",
    "from sklearn.preprocessing import StandardScaler\n",
    "from sklearn.model_selection import StratifiedKFold\n",
    "from sklearn.ensemble import RandomForestClassifier\n",
    "from sklearn.model_selection import GridSearchCV, RandomizedSearchCV\n",
    "from sklearn.tree import DecisionTreeClassifier\n",
    "from sklearn.model_selection import KFold"
   ]
  },
  {
   "cell_type": "code",
   "execution_count": 5,
   "metadata": {},
   "outputs": [],
   "source": [
    "skf = StratifiedKFold(n_splits=5, random_state=42, shuffle=False)"
   ]
  },
  {
   "cell_type": "code",
   "execution_count": 6,
   "metadata": {},
   "outputs": [],
   "source": [
    "pd.set_option('display.max_columns', None)"
   ]
  },
  {
   "cell_type": "code",
   "execution_count": 7,
   "metadata": {},
   "outputs": [
    {
     "name": "stdout",
     "output_type": "stream",
     "text": [
      "Double_Tap_Feature_Engineering.ipynb gj_30base.csv\r\n",
      "Forex_Data_Analysis.ipynb            gj_30minsupres.csv\r\n",
      "Forex_Models.ipynb                   gj_4base.csv\r\n",
      "README.md                            gj_4hr.csv\r\n",
      "forex.html                           gj_cleandraft.csv\r\n",
      "gj_30_RSI_exp.csv                    gpbjpy_dataframe_gen.ipynb\r\n"
     ]
    }
   ],
   "source": [
    "!ls"
   ]
  },
  {
   "cell_type": "code",
   "execution_count": 38,
   "metadata": {},
   "outputs": [],
   "source": [
    "#read in the latest data set\n",
    "df = pd.read_csv(\"gj_cleandraft.csv\")"
   ]
  },
  {
   "cell_type": "code",
   "execution_count": 39,
   "metadata": {},
   "outputs": [
    {
     "data": {
      "text/html": [
       "<div>\n",
       "<style scoped>\n",
       "    .dataframe tbody tr th:only-of-type {\n",
       "        vertical-align: middle;\n",
       "    }\n",
       "\n",
       "    .dataframe tbody tr th {\n",
       "        vertical-align: top;\n",
       "    }\n",
       "\n",
       "    .dataframe thead th {\n",
       "        text-align: right;\n",
       "    }\n",
       "</style>\n",
       "<table border=\"1\" class=\"dataframe\">\n",
       "  <thead>\n",
       "    <tr style=\"text-align: right;\">\n",
       "      <th></th>\n",
       "      <th>date</th>\n",
       "      <th>open</th>\n",
       "      <th>high</th>\n",
       "      <th>low</th>\n",
       "      <th>close</th>\n",
       "      <th>vwma</th>\n",
       "      <th>sr_low</th>\n",
       "      <th>sr_high</th>\n",
       "      <th>volume</th>\n",
       "      <th>sent_30</th>\n",
       "      <th>RSI</th>\n",
       "      <th>direction</th>\n",
       "      <th>body_size</th>\n",
       "      <th>top_wick</th>\n",
       "      <th>bottom_wick</th>\n",
       "      <th>trade_class</th>\n",
       "      <th>trade_class_two</th>\n",
       "      <th>day_of_week</th>\n",
       "      <th>day</th>\n",
       "      <th>month</th>\n",
       "      <th>year</th>\n",
       "      <th>time_24h</th>\n",
       "      <th>session</th>\n",
       "      <th>vfive</th>\n",
       "      <th>rel_vol</th>\n",
       "      <th>out_mag</th>\n",
       "      <th>signal</th>\n",
       "      <th>break_level</th>\n",
       "      <th>sent_4h</th>\n",
       "      <th>x_vwma</th>\n",
       "      <th>pos_can</th>\n",
       "      <th>neg_can</th>\n",
       "      <th>prof_loss</th>\n",
       "      <th>det_trade</th>\n",
       "      <th>short_rsi</th>\n",
       "      <th>long_rsi</th>\n",
       "      <th>sr_dist</th>\n",
       "    </tr>\n",
       "  </thead>\n",
       "  <tbody>\n",
       "    <tr>\n",
       "      <th>18740</th>\n",
       "      <td>2020-07-09 09:30:00</td>\n",
       "      <td>135.658</td>\n",
       "      <td>135.920</td>\n",
       "      <td>135.634</td>\n",
       "      <td>135.783</td>\n",
       "      <td>135.487533</td>\n",
       "      <td>132.186</td>\n",
       "      <td>135.505</td>\n",
       "      <td>6420</td>\n",
       "      <td>0.015488</td>\n",
       "      <td>70.570252</td>\n",
       "      <td>long</td>\n",
       "      <td>0.125</td>\n",
       "      <td>0.262</td>\n",
       "      <td>0.024</td>\n",
       "      <td>no_trade</td>\n",
       "      <td>no_trade</td>\n",
       "      <td>Thursday</td>\n",
       "      <td>9</td>\n",
       "      <td>7</td>\n",
       "      <td>2020</td>\n",
       "      <td>09:30:00</td>\n",
       "      <td>morning</td>\n",
       "      <td>7397.8</td>\n",
       "      <td>0.867826</td>\n",
       "      <td>0.000</td>\n",
       "      <td>no_trade</td>\n",
       "      <td>no_trade</td>\n",
       "      <td>0.097192</td>\n",
       "      <td>0</td>\n",
       "      <td>0.000000</td>\n",
       "      <td>0.295467</td>\n",
       "      <td>0.000</td>\n",
       "      <td>0</td>\n",
       "      <td>0.00</td>\n",
       "      <td>0.0</td>\n",
       "      <td>1.008955</td>\n",
       "    </tr>\n",
       "    <tr>\n",
       "      <th>18741</th>\n",
       "      <td>2020-07-09 10:00:00</td>\n",
       "      <td>135.783</td>\n",
       "      <td>135.808</td>\n",
       "      <td>135.720</td>\n",
       "      <td>135.756</td>\n",
       "      <td>135.510547</td>\n",
       "      <td>132.186</td>\n",
       "      <td>135.505</td>\n",
       "      <td>4877</td>\n",
       "      <td>0.017300</td>\n",
       "      <td>68.244824</td>\n",
       "      <td>short</td>\n",
       "      <td>0.027</td>\n",
       "      <td>0.025</td>\n",
       "      <td>0.063</td>\n",
       "      <td>win</td>\n",
       "      <td>win</td>\n",
       "      <td>Thursday</td>\n",
       "      <td>9</td>\n",
       "      <td>7</td>\n",
       "      <td>2020</td>\n",
       "      <td>10:00:00</td>\n",
       "      <td>morning</td>\n",
       "      <td>7056.2</td>\n",
       "      <td>0.691165</td>\n",
       "      <td>0.130</td>\n",
       "      <td>trade</td>\n",
       "      <td>in_body</td>\n",
       "      <td>0.097192</td>\n",
       "      <td>0</td>\n",
       "      <td>0.245453</td>\n",
       "      <td>0.000000</td>\n",
       "      <td>0.130</td>\n",
       "      <td>win</td>\n",
       "      <td>3.24</td>\n",
       "      <td>0.0</td>\n",
       "      <td>0.251000</td>\n",
       "    </tr>\n",
       "    <tr>\n",
       "      <th>18742</th>\n",
       "      <td>2020-07-09 10:30:00</td>\n",
       "      <td>135.756</td>\n",
       "      <td>135.784</td>\n",
       "      <td>135.661</td>\n",
       "      <td>135.677</td>\n",
       "      <td>135.530777</td>\n",
       "      <td>132.186</td>\n",
       "      <td>135.505</td>\n",
       "      <td>7407</td>\n",
       "      <td>0.016016</td>\n",
       "      <td>61.825399</td>\n",
       "      <td>short</td>\n",
       "      <td>0.079</td>\n",
       "      <td>0.028</td>\n",
       "      <td>0.095</td>\n",
       "      <td>no_trade</td>\n",
       "      <td>no_trade</td>\n",
       "      <td>Thursday</td>\n",
       "      <td>9</td>\n",
       "      <td>7</td>\n",
       "      <td>2020</td>\n",
       "      <td>10:30:00</td>\n",
       "      <td>morning</td>\n",
       "      <td>6260.2</td>\n",
       "      <td>1.183189</td>\n",
       "      <td>0.000</td>\n",
       "      <td>no_trade</td>\n",
       "      <td>no_trade</td>\n",
       "      <td>0.097192</td>\n",
       "      <td>0</td>\n",
       "      <td>0.146223</td>\n",
       "      <td>0.000000</td>\n",
       "      <td>0.000</td>\n",
       "      <td>0</td>\n",
       "      <td>0.00</td>\n",
       "      <td>0.0</td>\n",
       "      <td>0.172000</td>\n",
       "    </tr>\n",
       "    <tr>\n",
       "      <th>18743</th>\n",
       "      <td>2020-07-09 11:00:00</td>\n",
       "      <td>135.677</td>\n",
       "      <td>135.752</td>\n",
       "      <td>135.626</td>\n",
       "      <td>135.662</td>\n",
       "      <td>135.551976</td>\n",
       "      <td>132.186</td>\n",
       "      <td>135.505</td>\n",
       "      <td>6730</td>\n",
       "      <td>0.014076</td>\n",
       "      <td>60.658675</td>\n",
       "      <td>short</td>\n",
       "      <td>0.015</td>\n",
       "      <td>0.075</td>\n",
       "      <td>0.051</td>\n",
       "      <td>no_trade</td>\n",
       "      <td>no_trade</td>\n",
       "      <td>Thursday</td>\n",
       "      <td>9</td>\n",
       "      <td>7</td>\n",
       "      <td>2020</td>\n",
       "      <td>11:00:00</td>\n",
       "      <td>morning</td>\n",
       "      <td>6175.4</td>\n",
       "      <td>1.089808</td>\n",
       "      <td>0.000</td>\n",
       "      <td>no_trade</td>\n",
       "      <td>no_trade</td>\n",
       "      <td>0.097192</td>\n",
       "      <td>0</td>\n",
       "      <td>0.110024</td>\n",
       "      <td>0.000000</td>\n",
       "      <td>0.000</td>\n",
       "      <td>0</td>\n",
       "      <td>0.00</td>\n",
       "      <td>0.0</td>\n",
       "      <td>0.157000</td>\n",
       "    </tr>\n",
       "    <tr>\n",
       "      <th>18744</th>\n",
       "      <td>2020-07-09 11:30:00</td>\n",
       "      <td>135.662</td>\n",
       "      <td>135.761</td>\n",
       "      <td>135.643</td>\n",
       "      <td>135.737</td>\n",
       "      <td>135.573992</td>\n",
       "      <td>132.186</td>\n",
       "      <td>135.505</td>\n",
       "      <td>5069</td>\n",
       "      <td>0.014088</td>\n",
       "      <td>64.287577</td>\n",
       "      <td>long</td>\n",
       "      <td>0.075</td>\n",
       "      <td>0.099</td>\n",
       "      <td>0.019</td>\n",
       "      <td>win</td>\n",
       "      <td>loss</td>\n",
       "      <td>Thursday</td>\n",
       "      <td>9</td>\n",
       "      <td>7</td>\n",
       "      <td>2020</td>\n",
       "      <td>11:30:00</td>\n",
       "      <td>morning</td>\n",
       "      <td>6218.0</td>\n",
       "      <td>0.815214</td>\n",
       "      <td>0.027</td>\n",
       "      <td>trade</td>\n",
       "      <td>in_wick</td>\n",
       "      <td>0.097192</td>\n",
       "      <td>0</td>\n",
       "      <td>0.000000</td>\n",
       "      <td>0.163008</td>\n",
       "      <td>-0.027</td>\n",
       "      <td>loss</td>\n",
       "      <td>0.00</td>\n",
       "      <td>0.0</td>\n",
       "      <td>1.008955</td>\n",
       "    </tr>\n",
       "  </tbody>\n",
       "</table>\n",
       "</div>"
      ],
      "text/plain": [
       "                      date     open     high      low    close        vwma  \\\n",
       "18740  2020-07-09 09:30:00  135.658  135.920  135.634  135.783  135.487533   \n",
       "18741  2020-07-09 10:00:00  135.783  135.808  135.720  135.756  135.510547   \n",
       "18742  2020-07-09 10:30:00  135.756  135.784  135.661  135.677  135.530777   \n",
       "18743  2020-07-09 11:00:00  135.677  135.752  135.626  135.662  135.551976   \n",
       "18744  2020-07-09 11:30:00  135.662  135.761  135.643  135.737  135.573992   \n",
       "\n",
       "        sr_low  sr_high  volume   sent_30        RSI direction  body_size  \\\n",
       "18740  132.186  135.505    6420  0.015488  70.570252      long      0.125   \n",
       "18741  132.186  135.505    4877  0.017300  68.244824     short      0.027   \n",
       "18742  132.186  135.505    7407  0.016016  61.825399     short      0.079   \n",
       "18743  132.186  135.505    6730  0.014076  60.658675     short      0.015   \n",
       "18744  132.186  135.505    5069  0.014088  64.287577      long      0.075   \n",
       "\n",
       "       top_wick  bottom_wick trade_class trade_class_two day_of_week  day  \\\n",
       "18740     0.262        0.024    no_trade        no_trade    Thursday    9   \n",
       "18741     0.025        0.063         win             win    Thursday    9   \n",
       "18742     0.028        0.095    no_trade        no_trade    Thursday    9   \n",
       "18743     0.075        0.051    no_trade        no_trade    Thursday    9   \n",
       "18744     0.099        0.019         win            loss    Thursday    9   \n",
       "\n",
       "       month  year  time_24h  session   vfive   rel_vol  out_mag    signal  \\\n",
       "18740      7  2020  09:30:00  morning  7397.8  0.867826    0.000  no_trade   \n",
       "18741      7  2020  10:00:00  morning  7056.2  0.691165    0.130     trade   \n",
       "18742      7  2020  10:30:00  morning  6260.2  1.183189    0.000  no_trade   \n",
       "18743      7  2020  11:00:00  morning  6175.4  1.089808    0.000  no_trade   \n",
       "18744      7  2020  11:30:00  morning  6218.0  0.815214    0.027     trade   \n",
       "\n",
       "      break_level   sent_4h  x_vwma   pos_can   neg_can  prof_loss det_trade  \\\n",
       "18740    no_trade  0.097192       0  0.000000  0.295467      0.000         0   \n",
       "18741     in_body  0.097192       0  0.245453  0.000000      0.130       win   \n",
       "18742    no_trade  0.097192       0  0.146223  0.000000      0.000         0   \n",
       "18743    no_trade  0.097192       0  0.110024  0.000000      0.000         0   \n",
       "18744     in_wick  0.097192       0  0.000000  0.163008     -0.027      loss   \n",
       "\n",
       "       short_rsi  long_rsi   sr_dist  \n",
       "18740       0.00       0.0  1.008955  \n",
       "18741       3.24       0.0  0.251000  \n",
       "18742       0.00       0.0  0.172000  \n",
       "18743       0.00       0.0  0.157000  \n",
       "18744       0.00       0.0  1.008955  "
      ]
     },
     "execution_count": 39,
     "metadata": {},
     "output_type": "execute_result"
    }
   ],
   "source": [
    "df.tail()"
   ]
  },
  {
   "cell_type": "code",
   "execution_count": 40,
   "metadata": {},
   "outputs": [
    {
     "name": "stdout",
     "output_type": "stream",
     "text": [
      "<class 'pandas.core.frame.DataFrame'>\n",
      "RangeIndex: 18745 entries, 0 to 18744\n",
      "Data columns (total 37 columns):\n",
      " #   Column           Non-Null Count  Dtype  \n",
      "---  ------           --------------  -----  \n",
      " 0   date             18745 non-null  object \n",
      " 1   open             18745 non-null  float64\n",
      " 2   high             18745 non-null  float64\n",
      " 3   low              18745 non-null  float64\n",
      " 4   close            18745 non-null  float64\n",
      " 5   vwma             18745 non-null  float64\n",
      " 6   sr_low           18745 non-null  float64\n",
      " 7   sr_high          18745 non-null  float64\n",
      " 8   volume           18745 non-null  int64  \n",
      " 9   sent_30          18745 non-null  float64\n",
      " 10  RSI              18745 non-null  float64\n",
      " 11  direction        18745 non-null  object \n",
      " 12  body_size        18745 non-null  float64\n",
      " 13  top_wick         18745 non-null  float64\n",
      " 14  bottom_wick      18745 non-null  float64\n",
      " 15  trade_class      18745 non-null  object \n",
      " 16  trade_class_two  18745 non-null  object \n",
      " 17  day_of_week      18745 non-null  object \n",
      " 18  day              18745 non-null  int64  \n",
      " 19  month            18745 non-null  int64  \n",
      " 20  year             18745 non-null  int64  \n",
      " 21  time_24h         18745 non-null  object \n",
      " 22  session          18745 non-null  object \n",
      " 23  vfive            18745 non-null  float64\n",
      " 24  rel_vol          18745 non-null  float64\n",
      " 25  out_mag          18745 non-null  float64\n",
      " 26  signal           18745 non-null  object \n",
      " 27  break_level      18745 non-null  object \n",
      " 28  sent_4h          18745 non-null  float64\n",
      " 29  x_vwma           18745 non-null  int64  \n",
      " 30  pos_can          18745 non-null  float64\n",
      " 31  neg_can          18745 non-null  float64\n",
      " 32  prof_loss        18745 non-null  float64\n",
      " 33  det_trade        18745 non-null  object \n",
      " 34  short_rsi        18745 non-null  float64\n",
      " 35  long_rsi         18745 non-null  float64\n",
      " 36  sr_dist          18745 non-null  float64\n",
      "dtypes: float64(22), int64(5), object(10)\n",
      "memory usage: 5.3+ MB\n"
     ]
    }
   ],
   "source": [
    "df.info()"
   ]
  },
  {
   "cell_type": "markdown",
   "metadata": {},
   "source": [
    "### We need to decide our training and test features and target \n"
   ]
  },
  {
   "cell_type": "markdown",
   "metadata": {},
   "source": [
    "features =  vwma, sr_low, sr_high, volume, sent_30, body_size, top_wick, bottom_wick, day_of_week(c), day(ss), month(c),\n",
    "session(c), vfive(ss), rel_vol(Ss), break_level(c), sent_4h(ss), x_vwma(b), pos_can(ss), neg_can(ss), short_rsi(ss)\n",
    "long_rsi(ss), sr_dist(ss) (22)\n",
    "\n",
    "target = det_trade"
   ]
  },
  {
   "cell_type": "markdown",
   "metadata": {},
   "source": [
    "As we have chosen det_trade to be our target variable we'll need to drop all the 0's from this feature. Remember we are trying to predict the outcome of trades signalled by our hypothesis, not whether we should trade or not. "
   ]
  },
  {
   "cell_type": "markdown",
   "metadata": {},
   "source": [
    "#### Let's try with a binary classification before getting into the multiclass situation, \n",
    "\n",
    "#### We'll make strong win our 1 class and strong loss our 0 class. "
   ]
  },
  {
   "cell_type": "code",
   "execution_count": 41,
   "metadata": {},
   "outputs": [
    {
     "data": {
      "text/plain": [
       "0              9987\n",
       "loss           3896\n",
       "strong win     2742\n",
       "win            1807\n",
       "strong loss     313\n",
       "Name: det_trade, dtype: int64"
      ]
     },
     "execution_count": 41,
     "metadata": {},
     "output_type": "execute_result"
    }
   ],
   "source": [
    "df.det_trade.value_counts()"
   ]
  },
  {
   "cell_type": "code",
   "execution_count": 42,
   "metadata": {},
   "outputs": [],
   "source": [
    "df1 = df.loc[df[\"det_trade\"]!='0']#as this was a mixed feature type 0 was a string so: \"0\""
   ]
  },
  {
   "cell_type": "code",
   "execution_count": 43,
   "metadata": {},
   "outputs": [],
   "source": [
    "df1 = df1.loc[df[\"det_trade\"]!='loss']"
   ]
  },
  {
   "cell_type": "code",
   "execution_count": 44,
   "metadata": {},
   "outputs": [],
   "source": [
    "df1 = df1.loc[df[\"det_trade\"]!='win']"
   ]
  },
  {
   "cell_type": "code",
   "execution_count": 45,
   "metadata": {},
   "outputs": [
    {
     "data": {
      "text/plain": [
       "strong win     2742\n",
       "strong loss     313\n",
       "Name: det_trade, dtype: int64"
      ]
     },
     "execution_count": 45,
     "metadata": {},
     "output_type": "execute_result"
    }
   ],
   "source": [
    "#Let's check we now have just two class outcomes\n",
    "df1.det_trade.value_counts()"
   ]
  },
  {
   "cell_type": "code",
   "execution_count": 46,
   "metadata": {},
   "outputs": [],
   "source": [
    "#Split our independent and dependent features. \n",
    "X = df1[[\"vwma\", \"volume\", \"vfive\", \"rel_vol\", \"x_vwma\", \"sr_low\", \"sr_high\", \"sr_dist\", \"sent_30\", \"sent_4h\",\n",
    "       \"body_size\", \"top_wick\", \"bottom_wick\", \"pos_can\", \"neg_can\", \"break_level\", \"day_of_week\", \"day\",\n",
    "       \"month\", \"session\", \"short_rsi\", \"long_rsi\"]]"
   ]
  },
  {
   "cell_type": "code",
   "execution_count": 47,
   "metadata": {},
   "outputs": [],
   "source": [
    "y = df1[[\"det_trade\"]]"
   ]
  },
  {
   "cell_type": "code",
   "execution_count": 48,
   "metadata": {},
   "outputs": [],
   "source": [
    "#get dummies for the categorical variables\n",
    "X = pd.get_dummies(X, columns= [\"break_level\", \"day_of_week\", \"day\", \"month\", \"session\"], drop_first=True)"
   ]
  },
  {
   "cell_type": "code",
   "execution_count": 49,
   "metadata": {},
   "outputs": [
    {
     "data": {
      "text/html": [
       "<div>\n",
       "<style scoped>\n",
       "    .dataframe tbody tr th:only-of-type {\n",
       "        vertical-align: middle;\n",
       "    }\n",
       "\n",
       "    .dataframe tbody tr th {\n",
       "        vertical-align: top;\n",
       "    }\n",
       "\n",
       "    .dataframe thead th {\n",
       "        text-align: right;\n",
       "    }\n",
       "</style>\n",
       "<table border=\"1\" class=\"dataframe\">\n",
       "  <thead>\n",
       "    <tr style=\"text-align: right;\">\n",
       "      <th></th>\n",
       "      <th>vwma</th>\n",
       "      <th>volume</th>\n",
       "      <th>vfive</th>\n",
       "      <th>rel_vol</th>\n",
       "      <th>x_vwma</th>\n",
       "      <th>sr_low</th>\n",
       "      <th>sr_high</th>\n",
       "      <th>sr_dist</th>\n",
       "      <th>sent_30</th>\n",
       "      <th>sent_4h</th>\n",
       "      <th>body_size</th>\n",
       "      <th>top_wick</th>\n",
       "      <th>bottom_wick</th>\n",
       "      <th>pos_can</th>\n",
       "      <th>neg_can</th>\n",
       "      <th>short_rsi</th>\n",
       "      <th>long_rsi</th>\n",
       "      <th>break_level_in_wick</th>\n",
       "      <th>break_level_out_wick</th>\n",
       "      <th>day_of_week_Monday</th>\n",
       "      <th>day_of_week_Sunday</th>\n",
       "      <th>day_of_week_Thursday</th>\n",
       "      <th>day_of_week_Tuesday</th>\n",
       "      <th>day_of_week_Wednesday</th>\n",
       "      <th>day_2</th>\n",
       "      <th>day_3</th>\n",
       "      <th>day_4</th>\n",
       "      <th>day_5</th>\n",
       "      <th>day_6</th>\n",
       "      <th>day_7</th>\n",
       "      <th>day_8</th>\n",
       "      <th>day_9</th>\n",
       "      <th>day_10</th>\n",
       "      <th>day_11</th>\n",
       "      <th>day_12</th>\n",
       "      <th>day_13</th>\n",
       "      <th>day_14</th>\n",
       "      <th>day_15</th>\n",
       "      <th>day_16</th>\n",
       "      <th>day_17</th>\n",
       "      <th>day_18</th>\n",
       "      <th>day_19</th>\n",
       "      <th>day_20</th>\n",
       "      <th>day_21</th>\n",
       "      <th>day_22</th>\n",
       "      <th>day_23</th>\n",
       "      <th>day_24</th>\n",
       "      <th>day_25</th>\n",
       "      <th>day_26</th>\n",
       "      <th>day_27</th>\n",
       "      <th>day_28</th>\n",
       "      <th>day_29</th>\n",
       "      <th>day_30</th>\n",
       "      <th>day_31</th>\n",
       "      <th>month_2</th>\n",
       "      <th>month_3</th>\n",
       "      <th>month_4</th>\n",
       "      <th>month_5</th>\n",
       "      <th>month_6</th>\n",
       "      <th>month_7</th>\n",
       "      <th>month_8</th>\n",
       "      <th>month_9</th>\n",
       "      <th>month_10</th>\n",
       "      <th>month_11</th>\n",
       "      <th>month_12</th>\n",
       "      <th>session_evening</th>\n",
       "      <th>session_morning</th>\n",
       "      <th>session_night</th>\n",
       "    </tr>\n",
       "  </thead>\n",
       "  <tbody>\n",
       "    <tr>\n",
       "      <th>2</th>\n",
       "      <td>138.033155</td>\n",
       "      <td>8658</td>\n",
       "      <td>9090.6</td>\n",
       "      <td>0.952412</td>\n",
       "      <td>0</td>\n",
       "      <td>137.268</td>\n",
       "      <td>138.012</td>\n",
       "      <td>0.075</td>\n",
       "      <td>0.028058</td>\n",
       "      <td>0.004876</td>\n",
       "      <td>0.131</td>\n",
       "      <td>0.064</td>\n",
       "      <td>0.194</td>\n",
       "      <td>0.053845</td>\n",
       "      <td>0.000000</td>\n",
       "      <td>0.0</td>\n",
       "      <td>0.0</td>\n",
       "      <td>0</td>\n",
       "      <td>1</td>\n",
       "      <td>1</td>\n",
       "      <td>0</td>\n",
       "      <td>0</td>\n",
       "      <td>0</td>\n",
       "      <td>0</td>\n",
       "      <td>0</td>\n",
       "      <td>0</td>\n",
       "      <td>0</td>\n",
       "      <td>0</td>\n",
       "      <td>0</td>\n",
       "      <td>1</td>\n",
       "      <td>0</td>\n",
       "      <td>0</td>\n",
       "      <td>0</td>\n",
       "      <td>0</td>\n",
       "      <td>0</td>\n",
       "      <td>0</td>\n",
       "      <td>0</td>\n",
       "      <td>0</td>\n",
       "      <td>0</td>\n",
       "      <td>0</td>\n",
       "      <td>0</td>\n",
       "      <td>0</td>\n",
       "      <td>0</td>\n",
       "      <td>0</td>\n",
       "      <td>0</td>\n",
       "      <td>0</td>\n",
       "      <td>0</td>\n",
       "      <td>0</td>\n",
       "      <td>0</td>\n",
       "      <td>0</td>\n",
       "      <td>0</td>\n",
       "      <td>0</td>\n",
       "      <td>0</td>\n",
       "      <td>0</td>\n",
       "      <td>0</td>\n",
       "      <td>0</td>\n",
       "      <td>0</td>\n",
       "      <td>0</td>\n",
       "      <td>0</td>\n",
       "      <td>0</td>\n",
       "      <td>0</td>\n",
       "      <td>0</td>\n",
       "      <td>0</td>\n",
       "      <td>0</td>\n",
       "      <td>0</td>\n",
       "      <td>0</td>\n",
       "      <td>0</td>\n",
       "      <td>1</td>\n",
       "    </tr>\n",
       "    <tr>\n",
       "      <th>10</th>\n",
       "      <td>138.083179</td>\n",
       "      <td>4794</td>\n",
       "      <td>5863.0</td>\n",
       "      <td>0.817670</td>\n",
       "      <td>0</td>\n",
       "      <td>137.268</td>\n",
       "      <td>138.012</td>\n",
       "      <td>0.663</td>\n",
       "      <td>-0.031096</td>\n",
       "      <td>0.037737</td>\n",
       "      <td>0.106</td>\n",
       "      <td>0.001</td>\n",
       "      <td>0.184</td>\n",
       "      <td>0.000000</td>\n",
       "      <td>0.152179</td>\n",
       "      <td>0.0</td>\n",
       "      <td>0.0</td>\n",
       "      <td>0</td>\n",
       "      <td>1</td>\n",
       "      <td>1</td>\n",
       "      <td>0</td>\n",
       "      <td>0</td>\n",
       "      <td>0</td>\n",
       "      <td>0</td>\n",
       "      <td>0</td>\n",
       "      <td>0</td>\n",
       "      <td>0</td>\n",
       "      <td>0</td>\n",
       "      <td>0</td>\n",
       "      <td>1</td>\n",
       "      <td>0</td>\n",
       "      <td>0</td>\n",
       "      <td>0</td>\n",
       "      <td>0</td>\n",
       "      <td>0</td>\n",
       "      <td>0</td>\n",
       "      <td>0</td>\n",
       "      <td>0</td>\n",
       "      <td>0</td>\n",
       "      <td>0</td>\n",
       "      <td>0</td>\n",
       "      <td>0</td>\n",
       "      <td>0</td>\n",
       "      <td>0</td>\n",
       "      <td>0</td>\n",
       "      <td>0</td>\n",
       "      <td>0</td>\n",
       "      <td>0</td>\n",
       "      <td>0</td>\n",
       "      <td>0</td>\n",
       "      <td>0</td>\n",
       "      <td>0</td>\n",
       "      <td>0</td>\n",
       "      <td>0</td>\n",
       "      <td>0</td>\n",
       "      <td>0</td>\n",
       "      <td>0</td>\n",
       "      <td>0</td>\n",
       "      <td>0</td>\n",
       "      <td>0</td>\n",
       "      <td>0</td>\n",
       "      <td>0</td>\n",
       "      <td>0</td>\n",
       "      <td>0</td>\n",
       "      <td>0</td>\n",
       "      <td>0</td>\n",
       "      <td>0</td>\n",
       "      <td>1</td>\n",
       "    </tr>\n",
       "    <tr>\n",
       "      <th>12</th>\n",
       "      <td>138.064216</td>\n",
       "      <td>3150</td>\n",
       "      <td>5786.8</td>\n",
       "      <td>0.544342</td>\n",
       "      <td>0</td>\n",
       "      <td>137.268</td>\n",
       "      <td>138.012</td>\n",
       "      <td>0.664</td>\n",
       "      <td>-0.037686</td>\n",
       "      <td>0.065515</td>\n",
       "      <td>0.016</td>\n",
       "      <td>0.055</td>\n",
       "      <td>0.100</td>\n",
       "      <td>0.000000</td>\n",
       "      <td>0.132216</td>\n",
       "      <td>0.0</td>\n",
       "      <td>0.0</td>\n",
       "      <td>0</td>\n",
       "      <td>0</td>\n",
       "      <td>1</td>\n",
       "      <td>0</td>\n",
       "      <td>0</td>\n",
       "      <td>0</td>\n",
       "      <td>0</td>\n",
       "      <td>0</td>\n",
       "      <td>0</td>\n",
       "      <td>0</td>\n",
       "      <td>0</td>\n",
       "      <td>0</td>\n",
       "      <td>1</td>\n",
       "      <td>0</td>\n",
       "      <td>0</td>\n",
       "      <td>0</td>\n",
       "      <td>0</td>\n",
       "      <td>0</td>\n",
       "      <td>0</td>\n",
       "      <td>0</td>\n",
       "      <td>0</td>\n",
       "      <td>0</td>\n",
       "      <td>0</td>\n",
       "      <td>0</td>\n",
       "      <td>0</td>\n",
       "      <td>0</td>\n",
       "      <td>0</td>\n",
       "      <td>0</td>\n",
       "      <td>0</td>\n",
       "      <td>0</td>\n",
       "      <td>0</td>\n",
       "      <td>0</td>\n",
       "      <td>0</td>\n",
       "      <td>0</td>\n",
       "      <td>0</td>\n",
       "      <td>0</td>\n",
       "      <td>0</td>\n",
       "      <td>0</td>\n",
       "      <td>0</td>\n",
       "      <td>0</td>\n",
       "      <td>0</td>\n",
       "      <td>0</td>\n",
       "      <td>0</td>\n",
       "      <td>0</td>\n",
       "      <td>0</td>\n",
       "      <td>0</td>\n",
       "      <td>0</td>\n",
       "      <td>0</td>\n",
       "      <td>0</td>\n",
       "      <td>0</td>\n",
       "      <td>1</td>\n",
       "    </tr>\n",
       "  </tbody>\n",
       "</table>\n",
       "</div>"
      ],
      "text/plain": [
       "          vwma  volume   vfive   rel_vol  x_vwma   sr_low  sr_high  sr_dist  \\\n",
       "2   138.033155    8658  9090.6  0.952412       0  137.268  138.012    0.075   \n",
       "10  138.083179    4794  5863.0  0.817670       0  137.268  138.012    0.663   \n",
       "12  138.064216    3150  5786.8  0.544342       0  137.268  138.012    0.664   \n",
       "\n",
       "     sent_30   sent_4h  body_size  top_wick  bottom_wick   pos_can   neg_can  \\\n",
       "2   0.028058  0.004876      0.131     0.064        0.194  0.053845  0.000000   \n",
       "10 -0.031096  0.037737      0.106     0.001        0.184  0.000000  0.152179   \n",
       "12 -0.037686  0.065515      0.016     0.055        0.100  0.000000  0.132216   \n",
       "\n",
       "    short_rsi  long_rsi  break_level_in_wick  break_level_out_wick  \\\n",
       "2         0.0       0.0                    0                     1   \n",
       "10        0.0       0.0                    0                     1   \n",
       "12        0.0       0.0                    0                     0   \n",
       "\n",
       "    day_of_week_Monday  day_of_week_Sunday  day_of_week_Thursday  \\\n",
       "2                    1                   0                     0   \n",
       "10                   1                   0                     0   \n",
       "12                   1                   0                     0   \n",
       "\n",
       "    day_of_week_Tuesday  day_of_week_Wednesday  day_2  day_3  day_4  day_5  \\\n",
       "2                     0                      0      0      0      0      0   \n",
       "10                    0                      0      0      0      0      0   \n",
       "12                    0                      0      0      0      0      0   \n",
       "\n",
       "    day_6  day_7  day_8  day_9  day_10  day_11  day_12  day_13  day_14  \\\n",
       "2       0      1      0      0       0       0       0       0       0   \n",
       "10      0      1      0      0       0       0       0       0       0   \n",
       "12      0      1      0      0       0       0       0       0       0   \n",
       "\n",
       "    day_15  day_16  day_17  day_18  day_19  day_20  day_21  day_22  day_23  \\\n",
       "2        0       0       0       0       0       0       0       0       0   \n",
       "10       0       0       0       0       0       0       0       0       0   \n",
       "12       0       0       0       0       0       0       0       0       0   \n",
       "\n",
       "    day_24  day_25  day_26  day_27  day_28  day_29  day_30  day_31  month_2  \\\n",
       "2        0       0       0       0       0       0       0       0        0   \n",
       "10       0       0       0       0       0       0       0       0        0   \n",
       "12       0       0       0       0       0       0       0       0        0   \n",
       "\n",
       "    month_3  month_4  month_5  month_6  month_7  month_8  month_9  month_10  \\\n",
       "2         0        0        0        0        0        0        0         0   \n",
       "10        0        0        0        0        0        0        0         0   \n",
       "12        0        0        0        0        0        0        0         0   \n",
       "\n",
       "    month_11  month_12  session_evening  session_morning  session_night  \n",
       "2          0         0                0                0              1  \n",
       "10         0         0                0                0              1  \n",
       "12         0         0                0                0              1  "
      ]
     },
     "execution_count": 49,
     "metadata": {},
     "output_type": "execute_result"
    }
   ],
   "source": [
    "X.head(3)"
   ]
  },
  {
   "cell_type": "code",
   "execution_count": 50,
   "metadata": {},
   "outputs": [
    {
     "data": {
      "text/plain": [
       "(3055, 68)"
      ]
     },
     "execution_count": 50,
     "metadata": {},
     "output_type": "execute_result"
    }
   ],
   "source": [
    "X.shape"
   ]
  },
  {
   "cell_type": "code",
   "execution_count": 71,
   "metadata": {},
   "outputs": [
    {
     "data": {
      "text/html": [
       "<div>\n",
       "<style scoped>\n",
       "    .dataframe tbody tr th:only-of-type {\n",
       "        vertical-align: middle;\n",
       "    }\n",
       "\n",
       "    .dataframe tbody tr th {\n",
       "        vertical-align: top;\n",
       "    }\n",
       "\n",
       "    .dataframe thead th {\n",
       "        text-align: right;\n",
       "    }\n",
       "</style>\n",
       "<table border=\"1\" class=\"dataframe\">\n",
       "  <thead>\n",
       "    <tr style=\"text-align: right;\">\n",
       "      <th></th>\n",
       "      <th>det_trade</th>\n",
       "    </tr>\n",
       "  </thead>\n",
       "  <tbody>\n",
       "    <tr>\n",
       "      <th>0</th>\n",
       "      <td>1</td>\n",
       "    </tr>\n",
       "    <tr>\n",
       "      <th>1</th>\n",
       "      <td>1</td>\n",
       "    </tr>\n",
       "    <tr>\n",
       "      <th>2</th>\n",
       "      <td>1</td>\n",
       "    </tr>\n",
       "    <tr>\n",
       "      <th>3</th>\n",
       "      <td>0</td>\n",
       "    </tr>\n",
       "    <tr>\n",
       "      <th>4</th>\n",
       "      <td>1</td>\n",
       "    </tr>\n",
       "    <tr>\n",
       "      <th>...</th>\n",
       "      <td>...</td>\n",
       "    </tr>\n",
       "    <tr>\n",
       "      <th>3050</th>\n",
       "      <td>1</td>\n",
       "    </tr>\n",
       "    <tr>\n",
       "      <th>3051</th>\n",
       "      <td>1</td>\n",
       "    </tr>\n",
       "    <tr>\n",
       "      <th>3052</th>\n",
       "      <td>1</td>\n",
       "    </tr>\n",
       "    <tr>\n",
       "      <th>3053</th>\n",
       "      <td>1</td>\n",
       "    </tr>\n",
       "    <tr>\n",
       "      <th>3054</th>\n",
       "      <td>1</td>\n",
       "    </tr>\n",
       "  </tbody>\n",
       "</table>\n",
       "<p>3055 rows × 1 columns</p>\n",
       "</div>"
      ],
      "text/plain": [
       "      det_trade\n",
       "0             1\n",
       "1             1\n",
       "2             1\n",
       "3             0\n",
       "4             1\n",
       "...         ...\n",
       "3050          1\n",
       "3051          1\n",
       "3052          1\n",
       "3053          1\n",
       "3054          1\n",
       "\n",
       "[3055 rows x 1 columns]"
      ]
     },
     "execution_count": 71,
     "metadata": {},
     "output_type": "execute_result"
    }
   ],
   "source": [
    "lb = LabelBinarizer()\n",
    "y =lb.fit_transform(y)\n",
    "y = pd.DataFrame(y, columns=['det_trade'])\n",
    "y"
   ]
  },
  {
   "cell_type": "code",
   "execution_count": 21,
   "metadata": {},
   "outputs": [],
   "source": [
    "#convert the target feature into a binary class variable\n",
    "# y.det_trade[y.det_trade=='strong win'] = 1\n",
    "# y.det_trade[y.det_trade=='strong loss'] = 0"
   ]
  },
  {
   "cell_type": "code",
   "execution_count": 72,
   "metadata": {},
   "outputs": [
    {
     "data": {
      "text/html": [
       "<div>\n",
       "<style scoped>\n",
       "    .dataframe tbody tr th:only-of-type {\n",
       "        vertical-align: middle;\n",
       "    }\n",
       "\n",
       "    .dataframe tbody tr th {\n",
       "        vertical-align: top;\n",
       "    }\n",
       "\n",
       "    .dataframe thead th {\n",
       "        text-align: right;\n",
       "    }\n",
       "</style>\n",
       "<table border=\"1\" class=\"dataframe\">\n",
       "  <thead>\n",
       "    <tr style=\"text-align: right;\">\n",
       "      <th></th>\n",
       "      <th>det_trade</th>\n",
       "    </tr>\n",
       "  </thead>\n",
       "  <tbody>\n",
       "    <tr>\n",
       "      <th>0</th>\n",
       "      <td>1</td>\n",
       "    </tr>\n",
       "    <tr>\n",
       "      <th>1</th>\n",
       "      <td>1</td>\n",
       "    </tr>\n",
       "    <tr>\n",
       "      <th>2</th>\n",
       "      <td>1</td>\n",
       "    </tr>\n",
       "    <tr>\n",
       "      <th>3</th>\n",
       "      <td>0</td>\n",
       "    </tr>\n",
       "    <tr>\n",
       "      <th>4</th>\n",
       "      <td>1</td>\n",
       "    </tr>\n",
       "  </tbody>\n",
       "</table>\n",
       "</div>"
      ],
      "text/plain": [
       "   det_trade\n",
       "0          1\n",
       "1          1\n",
       "2          1\n",
       "3          0\n",
       "4          1"
      ]
     },
     "execution_count": 72,
     "metadata": {},
     "output_type": "execute_result"
    }
   ],
   "source": [
    "y.head()"
   ]
  },
  {
   "cell_type": "code",
   "execution_count": 73,
   "metadata": {},
   "outputs": [
    {
     "data": {
      "text/plain": [
       "(3055, 1)"
      ]
     },
     "execution_count": 73,
     "metadata": {},
     "output_type": "execute_result"
    }
   ],
   "source": [
    "y.shape"
   ]
  },
  {
   "cell_type": "code",
   "execution_count": 74,
   "metadata": {},
   "outputs": [
    {
     "data": {
      "text/plain": [
       "1    2742\n",
       "0     313\n",
       "Name: det_trade, dtype: int64"
      ]
     },
     "execution_count": 74,
     "metadata": {},
     "output_type": "execute_result"
    }
   ],
   "source": [
    "y.det_trade.value_counts()"
   ]
  },
  {
   "cell_type": "code",
   "execution_count": 75,
   "metadata": {},
   "outputs": [
    {
     "name": "stdout",
     "output_type": "stream",
     "text": [
      "<class 'pandas.core.frame.DataFrame'>\n",
      "RangeIndex: 3055 entries, 0 to 3054\n",
      "Data columns (total 1 columns):\n",
      " #   Column     Non-Null Count  Dtype\n",
      "---  ------     --------------  -----\n",
      " 0   det_trade  3055 non-null   int64\n",
      "dtypes: int64(1)\n",
      "memory usage: 24.0 KB\n"
     ]
    }
   ],
   "source": [
    "y.info()"
   ]
  },
  {
   "cell_type": "markdown",
   "metadata": {},
   "source": [
    "## Train, Validation, Test Split"
   ]
  },
  {
   "cell_type": "code",
   "execution_count": 76,
   "metadata": {},
   "outputs": [],
   "source": [
    "#create training, validation and test data sets\n",
    "X_train, X_test, y_train, y_test = train_test_split(X,y, test_size=0.2, random_state=42)\n",
    "X_train_val, X_test_val, y_train_val, y_test_val = train_test_split(X_train, y_train, test_size=0.2)"
   ]
  },
  {
   "cell_type": "markdown",
   "metadata": {},
   "source": [
    "## Train a Basic Model"
   ]
  },
  {
   "cell_type": "code",
   "execution_count": 81,
   "metadata": {},
   "outputs": [],
   "source": [
    "lr = LogisticRegression()\n",
    "\n",
    "grid = {'C':10.0**np.arange(-2, 3), 'penalty':['l1', 'l2'], 'solver':['lbfgs', 'liblinear']}\n",
    "cv = skf"
   ]
  },
  {
   "cell_type": "code",
   "execution_count": 82,
   "metadata": {},
   "outputs": [],
   "source": [
    "clf = GridSearchCV(lr, param_grid=grid, cv=skf, n_jobs=-1, scoring='f1_macro')"
   ]
  },
  {
   "cell_type": "code",
   "execution_count": 88,
   "metadata": {},
   "outputs": [
    {
     "data": {
      "text/plain": [
       "GridSearchCV(cv=StratifiedKFold(n_splits=5, random_state=42, shuffle=False),\n",
       "             estimator=LogisticRegression(), n_jobs=-1,\n",
       "             param_grid={'C': array([1.e-02, 1.e-01, 1.e+00, 1.e+01, 1.e+02]),\n",
       "                         'penalty': ['l1', 'l2'],\n",
       "                         'solver': ['lbfgs', 'liblinear']},\n",
       "             scoring='f1_macro')"
      ]
     },
     "execution_count": 88,
     "metadata": {},
     "output_type": "execute_result"
    }
   ],
   "source": [
    "clf.fit(X_train_val, y_train_val)"
   ]
  },
  {
   "cell_type": "code",
   "execution_count": 90,
   "metadata": {},
   "outputs": [
    {
     "name": "stdout",
     "output_type": "stream",
     "text": [
      "[[  0   0]\n",
      " [ 57 432]]\n",
      "0.8834355828220859\n",
      "              precision    recall  f1-score   support\n",
      "\n",
      "           0       0.00      0.00      0.00        57\n",
      "           1       0.88      1.00      0.94       432\n",
      "\n",
      "    accuracy                           0.88       489\n",
      "   macro avg       0.44      0.50      0.47       489\n",
      "weighted avg       0.78      0.88      0.83       489\n",
      "\n"
     ]
    }
   ],
   "source": [
    "y_pred_val = clf.predict(X_test_val)\n",
    "print(confusion_matrix(y_pred_val, y_test_val))\n",
    "print(accuracy_score(y_test_val,y_pred_val))\n",
    "\n",
    "print(classification_report(y_test_val,y_pred_val))"
   ]
  },
  {
   "cell_type": "markdown",
   "metadata": {},
   "source": [
    "so at this stage the model is essentially predicting all wins :)\n",
    "\n",
    "true positives - we predicted 0 strong losses that were actually strong losses \\\n",
    "false positives - we predicted 0 strong losses that were actually strong wins \\\n",
    "false negatives - we predicted 57 strong wins that were actually strong losses \\\n",
    "true negatives - we predicted 432 strong wins that were actually strong wins"
   ]
  },
  {
   "cell_type": "markdown",
   "metadata": {},
   "source": [
    "## Let's try it with a basic Random Forest"
   ]
  },
  {
   "cell_type": "code",
   "execution_count": 91,
   "metadata": {},
   "outputs": [
    {
     "data": {
      "text/plain": [
       "RandomForestClassifier()"
      ]
     },
     "execution_count": 91,
     "metadata": {},
     "output_type": "execute_result"
    }
   ],
   "source": [
    "rf = RandomForestClassifier()\n",
    "rf.fit(X_train_val, y_train_val)"
   ]
  },
  {
   "cell_type": "code",
   "execution_count": 92,
   "metadata": {},
   "outputs": [
    {
     "name": "stdout",
     "output_type": "stream",
     "text": [
      "[[  0   0]\n",
      " [ 57 432]]\n",
      "0.8834355828220859\n",
      "              precision    recall  f1-score   support\n",
      "\n",
      "           0       0.00      0.00      0.00        57\n",
      "           1       0.88      1.00      0.94       432\n",
      "\n",
      "    accuracy                           0.88       489\n",
      "   macro avg       0.44      0.50      0.47       489\n",
      "weighted avg       0.78      0.88      0.83       489\n",
      "\n"
     ]
    }
   ],
   "source": [
    "y_pred_val = rf.predict(X_test_val)\n",
    "print(confusion_matrix(y_pred_val, y_test_val))\n",
    "print(accuracy_score(y_test_val,y_pred_val))\n",
    "\n",
    "print(classification_report(y_test_val,y_pred_val))"
   ]
  },
  {
   "cell_type": "code",
   "execution_count": 94,
   "metadata": {},
   "outputs": [],
   "source": [
    "##### It's obvious now that the imbalanced data is causing our results to sway heavily to the majority class. "
   ]
  },
  {
   "cell_type": "code",
   "execution_count": 96,
   "metadata": {},
   "outputs": [
    {
     "data": {
      "text/plain": [
       "1    1773\n",
       "0     182\n",
       "Name: det_trade, dtype: int64"
      ]
     },
     "execution_count": 96,
     "metadata": {},
     "output_type": "execute_result"
    }
   ],
   "source": [
    "y_train_val.det_trade.value_counts()"
   ]
  },
  {
   "cell_type": "markdown",
   "metadata": {},
   "source": [
    "We currently have an approx 1:10 ratio of strong wins to strong losses - we'll need to address this imbalance in the data. We'll try two different methods of oversampling, 1) RandomOverSampling and 2) SmoteTOMEK. "
   ]
  },
  {
   "cell_type": "markdown",
   "metadata": {},
   "source": [
    "## SMOTE"
   ]
  },
  {
   "cell_type": "code",
   "execution_count": 102,
   "metadata": {},
   "outputs": [],
   "source": [
    "from imblearn.combine import SMOTETomek\n",
    "from collections import Counter"
   ]
  },
  {
   "cell_type": "code",
   "execution_count": 105,
   "metadata": {},
   "outputs": [
    {
     "name": "stdout",
     "output_type": "stream",
     "text": [
      "The number of classes before fit Counter({1: 1773, 0: 182})\n",
      "The number of classes after fit Counter({1: 1577, 0: 1133})\n"
     ]
    }
   ],
   "source": [
    "#create an instance of the SMOTE class, including the new ratio of class outcomes\n",
    "smote = SMOTETomek(0.75) \n",
    "X_train_sm, y_train_sm = smote.fit_sample(X_train_val, y_train_val)\n",
    "\n",
    "print('The number of classes before fit {}'.format(Counter(y_train_val.det_trade)))\n",
    "print('The number of classes after fit {}'.format(Counter(y_train_sm.det_trade)))\n"
   ]
  },
  {
   "cell_type": "code",
   "execution_count": 106,
   "metadata": {},
   "outputs": [
    {
     "data": {
      "text/plain": [
       "RandomForestClassifier()"
      ]
     },
     "execution_count": 106,
     "metadata": {},
     "output_type": "execute_result"
    }
   ],
   "source": [
    "rf_sm = RandomForestClassifier()\n",
    "rf_sm.fit(X_train_sm, y_train_sm)"
   ]
  },
  {
   "cell_type": "code",
   "execution_count": 108,
   "metadata": {},
   "outputs": [
    {
     "name": "stdout",
     "output_type": "stream",
     "text": [
      "[[  1  15]\n",
      " [ 56 417]]\n",
      "0.8548057259713702\n",
      "              precision    recall  f1-score   support\n",
      "\n",
      "           0       0.00      0.00      0.00        57\n",
      "           1       0.88      1.00      0.94       432\n",
      "\n",
      "    accuracy                           0.88       489\n",
      "   macro avg       0.44      0.50      0.47       489\n",
      "weighted avg       0.78      0.88      0.83       489\n",
      "\n"
     ]
    }
   ],
   "source": [
    "y_pred_sm = rf_sm.predict(X_test_val)\n",
    "print(confusion_matrix(y_pred_sm, y_test_val))\n",
    "print(accuracy_score(y_test_val,y_pred_sm))\n",
    "\n",
    "print(classification_report(y_test_val,y_pred_val))"
   ]
  },
  {
   "cell_type": "markdown",
   "metadata": {},
   "source": [
    "so at this stage the model is essentially predicting all wins :)\n",
    "\n",
    "true positives - we predicted 1 strong losses that were actually strong losses \\\n",
    "false positives - we predicted 15 strong losses that were actually strong wins \\\n",
    "false negatives - we predicted 56 strong wins that were actually strong losses \\\n",
    "true negatives - we predicted 417 strong wins that were actually strong wins"
   ]
  },
  {
   "cell_type": "markdown",
   "metadata": {},
   "source": [
    "#### So this is a terrible model to present. Let's see if we can gain any further insight through hyper parameter tuning"
   ]
  },
  {
   "cell_type": "markdown",
   "metadata": {},
   "source": [
    "## Random Search CV"
   ]
  },
  {
   "cell_type": "code",
   "execution_count": 112,
   "metadata": {},
   "outputs": [
    {
     "name": "stdout",
     "output_type": "stream",
     "text": [
      "{'n_estimators': [200, 400, 600, 800, 1000, 1200, 1400, 1600, 1800, 2000], 'max_features': ['auto', 'sqrt', 'log2'], 'max_depth': [10, 120, 230, 340, 450, 560, 670, 780, 890, 1000], 'min_samples_split': [2, 5, 10, 14], 'min_samples_leaf': [1, 2, 4, 6, 8], 'criterion': ['entropy', 'gini']}\n"
     ]
    }
   ],
   "source": [
    "# Let's specify some parameter ranges\n",
    "n_estimators = [int(x) for x in np.linspace(start=200, stop=2000, num=10)]\n",
    "\n",
    "#Number of features to consider\n",
    "max_features = ['auto', 'sqrt', 'log2']\n",
    "\n",
    "#Max number of levels in each tree\n",
    "max_depth = [int(x) for x in np.linspace(10,1000,10)]\n",
    "\n",
    "#Min samples to split a node\n",
    "min_samples_split = [2, 5, 10, 14]\n",
    "\n",
    "#Min samples required at each node \n",
    "min_samples_leaf = [1, 2, 4, 6, 8]\n",
    "\n",
    "#Create a grid to store these paramters\n",
    "random_grid = {'n_estimators': n_estimators, \n",
    "               'max_features': max_features,\n",
    "               'max_depth': max_depth,\n",
    "               'min_samples_split': min_samples_split,\n",
    "               'min_samples_leaf': min_samples_leaf,\n",
    "               'criterion':['entropy', 'gini']\n",
    "              }\n",
    "\n",
    "print(random_grid)"
   ]
  },
  {
   "cell_type": "code",
   "execution_count": 113,
   "metadata": {},
   "outputs": [],
   "source": [
    "## Train a random forest classifier and then pass this trained model into a randomsearchCV\n",
    "rf1 = RandomForestClassifier()\n",
    "rf1_rand = RandomizedSearchCV(estimator=rf1, param_distributions=random_grid, n_iter=100, cv=3, verbose=5,\n",
    "                              random_state=42, n_jobs=-1)"
   ]
  },
  {
   "cell_type": "code",
   "execution_count": 115,
   "metadata": {},
   "outputs": [
    {
     "name": "stdout",
     "output_type": "stream",
     "text": [
      "Fitting 3 folds for each of 100 candidates, totalling 300 fits\n"
     ]
    },
    {
     "name": "stderr",
     "output_type": "stream",
     "text": [
      "[Parallel(n_jobs=-1)]: Using backend LokyBackend with 8 concurrent workers.\n",
      "[Parallel(n_jobs=-1)]: Done   2 tasks      | elapsed:    3.3s\n",
      "[Parallel(n_jobs=-1)]: Done  56 tasks      | elapsed:   50.2s\n",
      "[Parallel(n_jobs=-1)]: Done 146 tasks      | elapsed:  2.5min\n",
      "[Parallel(n_jobs=-1)]: Done 272 tasks      | elapsed:  4.5min\n",
      "[Parallel(n_jobs=-1)]: Done 300 out of 300 | elapsed:  5.1min finished\n"
     ]
    },
    {
     "data": {
      "text/plain": [
       "RandomizedSearchCV(cv=3, estimator=RandomForestClassifier(), n_iter=100,\n",
       "                   n_jobs=-1,\n",
       "                   param_distributions={'criterion': ['entropy', 'gini'],\n",
       "                                        'max_depth': [10, 120, 230, 340, 450,\n",
       "                                                      560, 670, 780, 890,\n",
       "                                                      1000],\n",
       "                                        'max_features': ['auto', 'sqrt',\n",
       "                                                         'log2'],\n",
       "                                        'min_samples_leaf': [1, 2, 4, 6, 8],\n",
       "                                        'min_samples_split': [2, 5, 10, 14],\n",
       "                                        'n_estimators': [200, 400, 600, 800,\n",
       "                                                         1000, 1200, 1400, 1600,\n",
       "                                                         1800, 2000]},\n",
       "                   random_state=42, verbose=5)"
      ]
     },
     "execution_count": 115,
     "metadata": {},
     "output_type": "execute_result"
    }
   ],
   "source": [
    "rf1_rand.fit(X_train_sm, y_train_sm)"
   ]
  },
  {
   "cell_type": "code",
   "execution_count": 116,
   "metadata": {},
   "outputs": [
    {
     "data": {
      "text/plain": [
       "{'n_estimators': 1200,\n",
       " 'min_samples_split': 2,\n",
       " 'min_samples_leaf': 1,\n",
       " 'max_features': 'auto',\n",
       " 'max_depth': 890,\n",
       " 'criterion': 'gini'}"
      ]
     },
     "execution_count": 116,
     "metadata": {},
     "output_type": "execute_result"
    }
   ],
   "source": [
    "rf1_rand.best_params_"
   ]
  },
  {
   "cell_type": "code",
   "execution_count": 117,
   "metadata": {},
   "outputs": [
    {
     "data": {
      "text/plain": [
       "RandomizedSearchCV(cv=3, estimator=RandomForestClassifier(), n_iter=100,\n",
       "                   n_jobs=-1,\n",
       "                   param_distributions={'criterion': ['entropy', 'gini'],\n",
       "                                        'max_depth': [10, 120, 230, 340, 450,\n",
       "                                                      560, 670, 780, 890,\n",
       "                                                      1000],\n",
       "                                        'max_features': ['auto', 'sqrt',\n",
       "                                                         'log2'],\n",
       "                                        'min_samples_leaf': [1, 2, 4, 6, 8],\n",
       "                                        'min_samples_split': [2, 5, 10, 14],\n",
       "                                        'n_estimators': [200, 400, 600, 800,\n",
       "                                                         1000, 1200, 1400, 1600,\n",
       "                                                         1800, 2000]},\n",
       "                   random_state=42, verbose=5)"
      ]
     },
     "execution_count": 117,
     "metadata": {},
     "output_type": "execute_result"
    }
   ],
   "source": [
    "rf1_rand"
   ]
  },
  {
   "cell_type": "code",
   "execution_count": 118,
   "metadata": {},
   "outputs": [
    {
     "data": {
      "text/plain": [
       "RandomForestClassifier(max_depth=890, n_estimators=1200)"
      ]
     },
     "execution_count": 118,
     "metadata": {},
     "output_type": "execute_result"
    }
   ],
   "source": [
    "rf1_rand.best_estimator_"
   ]
  },
  {
   "cell_type": "code",
   "execution_count": 119,
   "metadata": {},
   "outputs": [],
   "source": [
    "best_random_grid = rf1_rand.best_estimator_"
   ]
  },
  {
   "cell_type": "code",
   "execution_count": 120,
   "metadata": {},
   "outputs": [
    {
     "name": "stdout",
     "output_type": "stream",
     "text": [
      "[[  1  11]\n",
      " [ 56 421]]\n",
      "0.8629856850715747\n",
      "              precision    recall  f1-score   support\n",
      "\n",
      "           0       0.08      0.02      0.03        57\n",
      "           1       0.88      0.97      0.93       432\n",
      "\n",
      "    accuracy                           0.86       489\n",
      "   macro avg       0.48      0.50      0.48       489\n",
      "weighted avg       0.79      0.86      0.82       489\n",
      "\n"
     ]
    }
   ],
   "source": [
    "y_pred = rf1_rand.predict(X_test_val)\n",
    "print(confusion_matrix(y_pred, y_test_val))\n",
    "print(accuracy_score(y_test_val,y_pred))\n",
    "\n",
    "print(classification_report(y_test_val,y_pred))"
   ]
  },
  {
   "cell_type": "code",
   "execution_count": null,
   "metadata": {},
   "outputs": [],
   "source": []
  },
  {
   "cell_type": "code",
   "execution_count": null,
   "metadata": {},
   "outputs": [],
   "source": []
  }
 ],
 "metadata": {
  "kernelspec": {
   "display_name": "learn-env",
   "language": "python",
   "name": "learn-env"
  },
  "language_info": {
   "codemirror_mode": {
    "name": "ipython",
    "version": 3
   },
   "file_extension": ".py",
   "mimetype": "text/x-python",
   "name": "python",
   "nbconvert_exporter": "python",
   "pygments_lexer": "ipython3",
   "version": "3.6.6"
  }
 },
 "nbformat": 4,
 "nbformat_minor": 2
}
